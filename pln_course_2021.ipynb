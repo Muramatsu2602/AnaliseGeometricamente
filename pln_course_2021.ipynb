{
  "nbformat": 4,
  "nbformat_minor": 0,
  "metadata": {
    "colab": {
      "name": "pln-course-2021",
      "provenance": [],
      "authorship_tag": "ABX9TyPWvvtJ+27Dgb5IaiALP6ri",
      "include_colab_link": true
    },
    "kernelspec": {
      "name": "python3",
      "display_name": "Python 3"
    }
  },
  "cells": [
    {
      "cell_type": "markdown",
      "metadata": {
        "id": "view-in-github",
        "colab_type": "text"
      },
      "source": [
        "<a href=\"https://colab.research.google.com/github/Muramatsu2602/AnaliseGeometricamente/blob/master/pln_course_2021.ipynb\" target=\"_parent\"><img src=\"https://colab.research.google.com/assets/colab-badge.svg\" alt=\"Open In Colab\"/></a>"
      ]
    },
    {
      "cell_type": "markdown",
      "metadata": {
        "id": "y5EncUSnlcfi"
      },
      "source": [
        "**This** is a *test* program..."
      ]
    },
    {
      "cell_type": "code",
      "metadata": {
        "colab": {
          "base_uri": "https://localhost:8080/"
        },
        "id": "aEMFyJATjtKD",
        "outputId": "caecc96e-ba54-4790-b163-d94f50dcd68e"
      },
      "source": [
        "print(\"hello boss\")"
      ],
      "execution_count": 3,
      "outputs": [
        {
          "output_type": "stream",
          "text": [
            "hello boss\n"
          ],
          "name": "stdout"
        }
      ]
    }
  ]
}